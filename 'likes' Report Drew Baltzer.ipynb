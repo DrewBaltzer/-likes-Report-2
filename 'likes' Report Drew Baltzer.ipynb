{
 "cells": [
  {
   "cell_type": "markdown",
   "id": "1cf39e0e",
   "metadata": {},
   "source": [
    "### 'likes' Report by Drew Baltzer\n",
    "#### September 21, 2012"
   ]
  },
  {
   "cell_type": "markdown",
   "id": "1b1d66ec",
   "metadata": {},
   "source": [
    "#### 1. Loading in pandas, JSON and matplotlib files along with my personal Instagram data."
   ]
  },
  {
   "cell_type": "code",
   "execution_count": 2,
   "id": "843346b7",
   "metadata": {},
   "outputs": [],
   "source": [
    "import pandas as pd\n",
    "import json\n",
    "import matplotlib as plt"
   ]
  },
  {
   "cell_type": "code",
   "execution_count": 3,
   "id": "fb3c18bf",
   "metadata": {},
   "outputs": [],
   "source": [
    "with open(r\"C:\\Users\\Drew\\Downloads\\skullioosis_InstaData\\likes\\liked_posts.json\") as z:\n",
    "    dat = json.load(z)"
   ]
  },
  {
   "cell_type": "code",
   "execution_count": 4,
   "id": "8ea4b77b",
   "metadata": {},
   "outputs": [
    {
     "data": {
      "text/plain": [
       "dict_keys(['likes_media_likes'])"
      ]
     },
     "execution_count": 4,
     "metadata": {},
     "output_type": "execute_result"
    }
   ],
   "source": [
    "dat.keys()"
   ]
  },
  {
   "cell_type": "code",
   "execution_count": null,
   "id": "e3b00fbd",
   "metadata": {
    "scrolled": false
   },
   "outputs": [],
   "source": [
    "dat['likes_media_likes']"
   ]
  },
  {
   "cell_type": "markdown",
   "id": "eda29e0e",
   "metadata": {},
   "source": [
    "#### 2. The creation of the 'likes' DataFrame\n",
    "The key 'likes_media_likes' is used to pull all of the different things I have liked on Instagram along with the like to the profile, the time it was liked and the name of the profile. This key pulls the most data from the likes database to build a dataset with more meaning.\n",
    "\n"
   ]
  },
  {
   "cell_type": "markdown",
   "id": "cde2f862",
   "metadata": {},
   "source": [
    "#### 3. Data\n",
    "This data was collected and compiled by Instagram to be easily downloaded by the user. This data is important because it can be used to sell to advertisers to easily target a specific audience on Instagram. These advertising tactics are used throughout just about every online website as a form of revenue for the publisher. This can be a reliable source of data due to it coming straight from the website itself provided by Instagram. However, since the 'likes' dataset is manipulated by me, the user, the data can hold a sense of bias which can be a little unreliable."
   ]
  },
  {
   "cell_type": "code",
   "execution_count": 6,
   "id": "47191ad5",
   "metadata": {},
   "outputs": [],
   "source": [
    "df_likes = pd.DataFrame(dat['likes_media_likes'])"
   ]
  },
  {
   "cell_type": "code",
   "execution_count": 7,
   "id": "9a695db9",
   "metadata": {
    "scrolled": true
   },
   "outputs": [
    {
     "data": {
      "text/html": [
       "<div>\n",
       "<style scoped>\n",
       "    .dataframe tbody tr th:only-of-type {\n",
       "        vertical-align: middle;\n",
       "    }\n",
       "\n",
       "    .dataframe tbody tr th {\n",
       "        vertical-align: top;\n",
       "    }\n",
       "\n",
       "    .dataframe thead th {\n",
       "        text-align: right;\n",
       "    }\n",
       "</style>\n",
       "<table border=\"1\" class=\"dataframe\">\n",
       "  <thead>\n",
       "    <tr style=\"text-align: right;\">\n",
       "      <th></th>\n",
       "      <th>title</th>\n",
       "      <th>media_list_data</th>\n",
       "      <th>string_list_data</th>\n",
       "    </tr>\n",
       "  </thead>\n",
       "  <tbody>\n",
       "    <tr>\n",
       "      <th>0</th>\n",
       "      <td>emma_rose192</td>\n",
       "      <td>[]</td>\n",
       "      <td>[{'href': 'https://www.instagram.com/p/CS5Q57y...</td>\n",
       "    </tr>\n",
       "    <tr>\n",
       "      <th>1</th>\n",
       "      <td>ericka_pugh</td>\n",
       "      <td>[]</td>\n",
       "      <td>[{'href': 'https://www.instagram.com/p/CSy6XMH...</td>\n",
       "    </tr>\n",
       "    <tr>\n",
       "      <th>2</th>\n",
       "      <td>ericka_pugh</td>\n",
       "      <td>[]</td>\n",
       "      <td>[{'href': 'https://www.instagram.com/p/CSuA3iB...</td>\n",
       "    </tr>\n",
       "    <tr>\n",
       "      <th>3</th>\n",
       "      <td>samantha_bartolet</td>\n",
       "      <td>[]</td>\n",
       "      <td>[{'href': 'https://www.instagram.com/p/CSkphpr...</td>\n",
       "    </tr>\n",
       "    <tr>\n",
       "      <th>4</th>\n",
       "      <td>ericka_pugh</td>\n",
       "      <td>[]</td>\n",
       "      <td>[{'href': 'https://www.instagram.com/p/CSfllJd...</td>\n",
       "    </tr>\n",
       "    <tr>\n",
       "      <th>...</th>\n",
       "      <td>...</td>\n",
       "      <td>...</td>\n",
       "      <td>...</td>\n",
       "    </tr>\n",
       "    <tr>\n",
       "      <th>726</th>\n",
       "      <td>nasatheservicepup</td>\n",
       "      <td>[]</td>\n",
       "      <td>[{'href': 'https://www.instagram.com/p/BtJH1aM...</td>\n",
       "    </tr>\n",
       "    <tr>\n",
       "      <th>727</th>\n",
       "      <td>nasatheservicepup</td>\n",
       "      <td>[]</td>\n",
       "      <td>[{'href': 'https://www.instagram.com/p/Bs_uNXe...</td>\n",
       "    </tr>\n",
       "    <tr>\n",
       "      <th>728</th>\n",
       "      <td>espguitars</td>\n",
       "      <td>[]</td>\n",
       "      <td>[{'href': 'https://www.instagram.com/p/Bs6Hxce...</td>\n",
       "    </tr>\n",
       "    <tr>\n",
       "      <th>729</th>\n",
       "      <td>espguitars</td>\n",
       "      <td>[]</td>\n",
       "      <td>[{'href': 'https://www.instagram.com/p/BqNtRrB...</td>\n",
       "    </tr>\n",
       "    <tr>\n",
       "      <th>730</th>\n",
       "      <td>nasatheservicepup</td>\n",
       "      <td>[]</td>\n",
       "      <td>[{'href': 'https://www.instagram.com/p/BsuNCZI...</td>\n",
       "    </tr>\n",
       "  </tbody>\n",
       "</table>\n",
       "<p>731 rows × 3 columns</p>\n",
       "</div>"
      ],
      "text/plain": [
       "                 title media_list_data  \\\n",
       "0         emma_rose192              []   \n",
       "1          ericka_pugh              []   \n",
       "2          ericka_pugh              []   \n",
       "3    samantha_bartolet              []   \n",
       "4          ericka_pugh              []   \n",
       "..                 ...             ...   \n",
       "726  nasatheservicepup              []   \n",
       "727  nasatheservicepup              []   \n",
       "728         espguitars              []   \n",
       "729         espguitars              []   \n",
       "730  nasatheservicepup              []   \n",
       "\n",
       "                                      string_list_data  \n",
       "0    [{'href': 'https://www.instagram.com/p/CS5Q57y...  \n",
       "1    [{'href': 'https://www.instagram.com/p/CSy6XMH...  \n",
       "2    [{'href': 'https://www.instagram.com/p/CSuA3iB...  \n",
       "3    [{'href': 'https://www.instagram.com/p/CSkphpr...  \n",
       "4    [{'href': 'https://www.instagram.com/p/CSfllJd...  \n",
       "..                                                 ...  \n",
       "726  [{'href': 'https://www.instagram.com/p/BtJH1aM...  \n",
       "727  [{'href': 'https://www.instagram.com/p/Bs_uNXe...  \n",
       "728  [{'href': 'https://www.instagram.com/p/Bs6Hxce...  \n",
       "729  [{'href': 'https://www.instagram.com/p/BqNtRrB...  \n",
       "730  [{'href': 'https://www.instagram.com/p/BsuNCZI...  \n",
       "\n",
       "[731 rows x 3 columns]"
      ]
     },
     "execution_count": 7,
     "metadata": {},
     "output_type": "execute_result"
    }
   ],
   "source": [
    "df_likes"
   ]
  },
  {
   "cell_type": "code",
   "execution_count": 8,
   "id": "e2969020",
   "metadata": {},
   "outputs": [],
   "source": [
    "string_list_data = [x['string_list_data'][0] for x in dat['likes_media_likes']]"
   ]
  },
  {
   "cell_type": "code",
   "execution_count": null,
   "id": "04ad57c7",
   "metadata": {
    "scrolled": false
   },
   "outputs": [],
   "source": [
    "string_list_data"
   ]
  },
  {
   "cell_type": "markdown",
   "id": "640148b0",
   "metadata": {},
   "source": [
    "#### 4. Hypothesis\n",
    "With the 'likes' data provided, accounts that have the most comments liked by my profile will continue to grow in overall likes, compared to other accounts that will stagnate. Statistically, this data would rely on time stamp values and the amount of likes per account as well as data from comments to accurately see what accounts grow in likes over time. The theory is that because I tend to like posts from the same few accounts these accounts will tend grow in likes on their profile overtime, while other followed accounts will see very little growth. This can be proven by collecting data from the 'likes' files as well as the 'comments' files. If Instagram provided a data file that tracked how much total time has been spent on a specific profile that would help in visualizing data a little more clearly."
   ]
  },
  {
   "cell_type": "code",
   "execution_count": 10,
   "id": "2818ce9e",
   "metadata": {},
   "outputs": [],
   "source": [
    "df_likes2 = pd.DataFrame(string_list_data)"
   ]
  },
  {
   "cell_type": "code",
   "execution_count": 15,
   "id": "63bcdc1d",
   "metadata": {},
   "outputs": [
    {
     "data": {
      "text/html": [
       "<div>\n",
       "<style scoped>\n",
       "    .dataframe tbody tr th:only-of-type {\n",
       "        vertical-align: middle;\n",
       "    }\n",
       "\n",
       "    .dataframe tbody tr th {\n",
       "        vertical-align: top;\n",
       "    }\n",
       "\n",
       "    .dataframe thead th {\n",
       "        text-align: right;\n",
       "    }\n",
       "</style>\n",
       "<table border=\"1\" class=\"dataframe\">\n",
       "  <thead>\n",
       "    <tr style=\"text-align: right;\">\n",
       "      <th></th>\n",
       "      <th>href</th>\n",
       "      <th>value</th>\n",
       "      <th>timestamp</th>\n",
       "    </tr>\n",
       "  </thead>\n",
       "  <tbody>\n",
       "    <tr>\n",
       "      <th>0</th>\n",
       "      <td>https://www.instagram.com/p/CS5Q57yHX2SQfdHzAq...</td>\n",
       "      <td>ð</td>\n",
       "      <td>1629731940</td>\n",
       "    </tr>\n",
       "    <tr>\n",
       "      <th>1</th>\n",
       "      <td>https://www.instagram.com/p/CSy6XMHLyI0FjqRf0P...</td>\n",
       "      <td>ð</td>\n",
       "      <td>1629558555</td>\n",
       "    </tr>\n",
       "    <tr>\n",
       "      <th>2</th>\n",
       "      <td>https://www.instagram.com/p/CSuA3iBrwpLYhTGknL...</td>\n",
       "      <td>ð</td>\n",
       "      <td>1629301082</td>\n",
       "    </tr>\n",
       "    <tr>\n",
       "      <th>3</th>\n",
       "      <td>https://www.instagram.com/p/CSkphprl-8A/</td>\n",
       "      <td>ð</td>\n",
       "      <td>1628984354</td>\n",
       "    </tr>\n",
       "    <tr>\n",
       "      <th>4</th>\n",
       "      <td>https://www.instagram.com/p/CSfllJdlXzKHivxj9h...</td>\n",
       "      <td>ð</td>\n",
       "      <td>1628819343</td>\n",
       "    </tr>\n",
       "    <tr>\n",
       "      <th>...</th>\n",
       "      <td>...</td>\n",
       "      <td>...</td>\n",
       "      <td>...</td>\n",
       "    </tr>\n",
       "    <tr>\n",
       "      <th>726</th>\n",
       "      <td>https://www.instagram.com/p/BtJH1aMnX2m/</td>\n",
       "      <td>ð</td>\n",
       "      <td>1548610948</td>\n",
       "    </tr>\n",
       "    <tr>\n",
       "      <th>727</th>\n",
       "      <td>https://www.instagram.com/p/Bs_uNXeHJPk/</td>\n",
       "      <td>ð</td>\n",
       "      <td>1548286852</td>\n",
       "    </tr>\n",
       "    <tr>\n",
       "      <th>728</th>\n",
       "      <td>https://www.instagram.com/p/Bs6HxcegvSg/</td>\n",
       "      <td>ð</td>\n",
       "      <td>1548099675</td>\n",
       "    </tr>\n",
       "    <tr>\n",
       "      <th>729</th>\n",
       "      <td>https://www.instagram.com/p/BqNtRrBAhlh/</td>\n",
       "      <td>ð</td>\n",
       "      <td>1547948950</td>\n",
       "    </tr>\n",
       "    <tr>\n",
       "      <th>730</th>\n",
       "      <td>https://www.instagram.com/p/BsuNCZIH7AK/</td>\n",
       "      <td>ð</td>\n",
       "      <td>1547935572</td>\n",
       "    </tr>\n",
       "  </tbody>\n",
       "</table>\n",
       "<p>731 rows × 3 columns</p>\n",
       "</div>"
      ],
      "text/plain": [
       "                                                  href value   timestamp\n",
       "0    https://www.instagram.com/p/CS5Q57yHX2SQfdHzAq...  ð  1629731940\n",
       "1    https://www.instagram.com/p/CSy6XMHLyI0FjqRf0P...  ð  1629558555\n",
       "2    https://www.instagram.com/p/CSuA3iBrwpLYhTGknL...  ð  1629301082\n",
       "3             https://www.instagram.com/p/CSkphprl-8A/  ð  1628984354\n",
       "4    https://www.instagram.com/p/CSfllJdlXzKHivxj9h...  ð  1628819343\n",
       "..                                                 ...   ...         ...\n",
       "726           https://www.instagram.com/p/BtJH1aMnX2m/  ð  1548610948\n",
       "727           https://www.instagram.com/p/Bs_uNXeHJPk/  ð  1548286852\n",
       "728           https://www.instagram.com/p/Bs6HxcegvSg/  ð  1548099675\n",
       "729           https://www.instagram.com/p/BqNtRrBAhlh/  ð  1547948950\n",
       "730           https://www.instagram.com/p/BsuNCZIH7AK/  ð  1547935572\n",
       "\n",
       "[731 rows x 3 columns]"
      ]
     },
     "execution_count": 15,
     "metadata": {},
     "output_type": "execute_result"
    }
   ],
   "source": [
    "df_likes2"
   ]
  },
  {
   "cell_type": "code",
   "execution_count": 16,
   "id": "d62e0ad2",
   "metadata": {},
   "outputs": [],
   "source": [
    "df_likes2['title'] = df_likes['title']"
   ]
  },
  {
   "cell_type": "code",
   "execution_count": 19,
   "id": "8c5ccfcd",
   "metadata": {},
   "outputs": [
    {
     "data": {
      "text/html": [
       "<div>\n",
       "<style scoped>\n",
       "    .dataframe tbody tr th:only-of-type {\n",
       "        vertical-align: middle;\n",
       "    }\n",
       "\n",
       "    .dataframe tbody tr th {\n",
       "        vertical-align: top;\n",
       "    }\n",
       "\n",
       "    .dataframe thead th {\n",
       "        text-align: right;\n",
       "    }\n",
       "</style>\n",
       "<table border=\"1\" class=\"dataframe\">\n",
       "  <thead>\n",
       "    <tr style=\"text-align: right;\">\n",
       "      <th></th>\n",
       "      <th>href</th>\n",
       "      <th>value</th>\n",
       "      <th>timestamp</th>\n",
       "      <th>title</th>\n",
       "    </tr>\n",
       "  </thead>\n",
       "  <tbody>\n",
       "    <tr>\n",
       "      <th>0</th>\n",
       "      <td>https://www.instagram.com/p/CS5Q57yHX2SQfdHzAq...</td>\n",
       "      <td>ð</td>\n",
       "      <td>1629731940</td>\n",
       "      <td>emma_rose192</td>\n",
       "    </tr>\n",
       "    <tr>\n",
       "      <th>1</th>\n",
       "      <td>https://www.instagram.com/p/CSy6XMHLyI0FjqRf0P...</td>\n",
       "      <td>ð</td>\n",
       "      <td>1629558555</td>\n",
       "      <td>ericka_pugh</td>\n",
       "    </tr>\n",
       "    <tr>\n",
       "      <th>2</th>\n",
       "      <td>https://www.instagram.com/p/CSuA3iBrwpLYhTGknL...</td>\n",
       "      <td>ð</td>\n",
       "      <td>1629301082</td>\n",
       "      <td>ericka_pugh</td>\n",
       "    </tr>\n",
       "    <tr>\n",
       "      <th>3</th>\n",
       "      <td>https://www.instagram.com/p/CSkphprl-8A/</td>\n",
       "      <td>ð</td>\n",
       "      <td>1628984354</td>\n",
       "      <td>samantha_bartolet</td>\n",
       "    </tr>\n",
       "    <tr>\n",
       "      <th>4</th>\n",
       "      <td>https://www.instagram.com/p/CSfllJdlXzKHivxj9h...</td>\n",
       "      <td>ð</td>\n",
       "      <td>1628819343</td>\n",
       "      <td>ericka_pugh</td>\n",
       "    </tr>\n",
       "  </tbody>\n",
       "</table>\n",
       "</div>"
      ],
      "text/plain": [
       "                                                href value   timestamp  \\\n",
       "0  https://www.instagram.com/p/CS5Q57yHX2SQfdHzAq...  ð  1629731940   \n",
       "1  https://www.instagram.com/p/CSy6XMHLyI0FjqRf0P...  ð  1629558555   \n",
       "2  https://www.instagram.com/p/CSuA3iBrwpLYhTGknL...  ð  1629301082   \n",
       "3           https://www.instagram.com/p/CSkphprl-8A/  ð  1628984354   \n",
       "4  https://www.instagram.com/p/CSfllJdlXzKHivxj9h...  ð  1628819343   \n",
       "\n",
       "               title  \n",
       "0       emma_rose192  \n",
       "1        ericka_pugh  \n",
       "2        ericka_pugh  \n",
       "3  samantha_bartolet  \n",
       "4        ericka_pugh  "
      ]
     },
     "execution_count": 19,
     "metadata": {},
     "output_type": "execute_result"
    }
   ],
   "source": [
    "df_likes2.head()"
   ]
  },
  {
   "cell_type": "code",
   "execution_count": 18,
   "id": "76a5ec36",
   "metadata": {},
   "outputs": [
    {
     "data": {
      "text/html": [
       "<div>\n",
       "<style scoped>\n",
       "    .dataframe tbody tr th:only-of-type {\n",
       "        vertical-align: middle;\n",
       "    }\n",
       "\n",
       "    .dataframe tbody tr th {\n",
       "        vertical-align: top;\n",
       "    }\n",
       "\n",
       "    .dataframe thead th {\n",
       "        text-align: right;\n",
       "    }\n",
       "</style>\n",
       "<table border=\"1\" class=\"dataframe\">\n",
       "  <thead>\n",
       "    <tr style=\"text-align: right;\">\n",
       "      <th></th>\n",
       "      <th>href</th>\n",
       "      <th>value</th>\n",
       "      <th>timestamp</th>\n",
       "    </tr>\n",
       "    <tr>\n",
       "      <th>title</th>\n",
       "      <th></th>\n",
       "      <th></th>\n",
       "      <th></th>\n",
       "    </tr>\n",
       "  </thead>\n",
       "  <tbody>\n",
       "    <tr>\n",
       "      <th>__momo.loyal</th>\n",
       "      <td>3</td>\n",
       "      <td>3</td>\n",
       "      <td>3</td>\n",
       "    </tr>\n",
       "    <tr>\n",
       "      <th>_alecia.marie_</th>\n",
       "      <td>1</td>\n",
       "      <td>1</td>\n",
       "      <td>1</td>\n",
       "    </tr>\n",
       "    <tr>\n",
       "      <th>_bekah_walker</th>\n",
       "      <td>6</td>\n",
       "      <td>6</td>\n",
       "      <td>6</td>\n",
       "    </tr>\n",
       "    <tr>\n",
       "      <th>_jo.nicole</th>\n",
       "      <td>27</td>\n",
       "      <td>27</td>\n",
       "      <td>27</td>\n",
       "    </tr>\n",
       "    <tr>\n",
       "      <th>adamjones_tv</th>\n",
       "      <td>10</td>\n",
       "      <td>10</td>\n",
       "      <td>10</td>\n",
       "    </tr>\n",
       "    <tr>\n",
       "      <th>...</th>\n",
       "      <td>...</td>\n",
       "      <td>...</td>\n",
       "      <td>...</td>\n",
       "    </tr>\n",
       "    <tr>\n",
       "      <th>trosplo</th>\n",
       "      <td>8</td>\n",
       "      <td>8</td>\n",
       "      <td>8</td>\n",
       "    </tr>\n",
       "    <tr>\n",
       "      <th>varah_salentine</th>\n",
       "      <td>2</td>\n",
       "      <td>2</td>\n",
       "      <td>2</td>\n",
       "    </tr>\n",
       "    <tr>\n",
       "      <th>xlyssxnxff</th>\n",
       "      <td>4</td>\n",
       "      <td>4</td>\n",
       "      <td>4</td>\n",
       "    </tr>\n",
       "    <tr>\n",
       "      <th>zachispower</th>\n",
       "      <td>2</td>\n",
       "      <td>2</td>\n",
       "      <td>2</td>\n",
       "    </tr>\n",
       "    <tr>\n",
       "      <th>zam.its.sam</th>\n",
       "      <td>1</td>\n",
       "      <td>1</td>\n",
       "      <td>1</td>\n",
       "    </tr>\n",
       "  </tbody>\n",
       "</table>\n",
       "<p>79 rows × 3 columns</p>\n",
       "</div>"
      ],
      "text/plain": [
       "                 href  value  timestamp\n",
       "title                                  \n",
       "__momo.loyal        3      3          3\n",
       "_alecia.marie_      1      1          1\n",
       "_bekah_walker       6      6          6\n",
       "_jo.nicole         27     27         27\n",
       "adamjones_tv       10     10         10\n",
       "...               ...    ...        ...\n",
       "trosplo             8      8          8\n",
       "varah_salentine     2      2          2\n",
       "xlyssxnxff          4      4          4\n",
       "zachispower         2      2          2\n",
       "zam.its.sam         1      1          1\n",
       "\n",
       "[79 rows x 3 columns]"
      ]
     },
     "execution_count": 18,
     "metadata": {},
     "output_type": "execute_result"
    }
   ],
   "source": [
    "df_likes2.groupby('title').count()"
   ]
  },
  {
   "cell_type": "code",
   "execution_count": 13,
   "id": "8578c98a",
   "metadata": {},
   "outputs": [],
   "source": [
    "length = list(range(0,79))"
   ]
  },
  {
   "cell_type": "code",
   "execution_count": null,
   "id": "6786cc67",
   "metadata": {
    "scrolled": false
   },
   "outputs": [],
   "source": [
    "length"
   ]
  },
  {
   "cell_type": "markdown",
   "id": "0c840593",
   "metadata": {},
   "source": [
    "#### 5. Conclusion \n",
    "The data collected by Instagram allows us to access our own data and form a hypothesis off of it. With my current 'likes' data it will be easy to see that with the current trend of likes profiles with the most amount of likes will have an upwards trend of likes while lesser liked profiles will stagnate."
   ]
  }
 ],
 "metadata": {
  "kernelspec": {
   "display_name": "Python 3 (ipykernel)",
   "language": "python",
   "name": "python3"
  },
  "language_info": {
   "codemirror_mode": {
    "name": "ipython",
    "version": 3
   },
   "file_extension": ".py",
   "mimetype": "text/x-python",
   "name": "python",
   "nbconvert_exporter": "python",
   "pygments_lexer": "ipython3",
   "version": "3.9.6"
  }
 },
 "nbformat": 4,
 "nbformat_minor": 5
}
